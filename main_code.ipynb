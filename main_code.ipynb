{
  "cells": [
    {
      "metadata": {
        "_uuid": "8f2839f25d086af736a60e9eeb907d3b93b6e0e5",
        "_cell_guid": "b1076dfc-b9ad-4769-8c92-a6c4dae69d19",
        "trusted": true
      },
      "cell_type": "code",
      "source": "# This Python 3 environment comes with many helpful analytics libraries installed\n# It is defined by the kaggle/python docker image: https://github.com/kaggle/docker-python\n# For example, here's several helpful packages to load in \n\nimport numpy as np # linear algebra\nimport pandas as pd # data processing, CSV file I/O (e.g. pd.read_csv)\n\n# Input data files are available in the \"../input/\" directory.\n# For example, running this (by clicking run or pressing Shift+Enter) will list the files in the input directory\n\nimport os\nprint(os.listdir(\"../input\"))\n\n# Any results you write to the current directory are saved as output.",
      "execution_count": null,
      "outputs": []
    },
    {
      "metadata": {
        "_cell_guid": "79c7e3d0-c299-4dcb-8224-4455121ee9b0",
        "_uuid": "d629ff2d2480ee46fbb7e2d37f6b5fab8052498a",
        "trusted": true
      },
      "cell_type": "code",
      "source": "train_dir = \"../input/train\";\ntest_dir = \"../input/test\";",
      "execution_count": null,
      "outputs": []
    },
    {
      "metadata": {
        "trusted": true,
        "_uuid": "ebc222fe97c63df855ef82843fb61817aa560052"
      },
      "cell_type": "code",
      "source": "train = pd.read_csv(train_dir + \".csv\")\ntrain = train[train.Id != \"new_whale\"]",
      "execution_count": null,
      "outputs": []
    },
    {
      "metadata": {
        "trusted": true,
        "_uuid": "c6e0786b6461dbd6cc1282876ebcd3879d88964f"
      },
      "cell_type": "code",
      "source": "#import cv2 as cv",
      "execution_count": null,
      "outputs": []
    },
    {
      "metadata": {
        "trusted": true,
        "_uuid": "d945670c399db7de72035765f3c56b8e7a4a2727"
      },
      "cell_type": "code",
      "source": "#i = 0\n#for x in X:\n #   img = cv.resize(cv.imread(train_dir + '/' + x),(100,100))\n  #  cv.imwrite(x[:-4] + \"_copy.jpg\",img)\n   # i += 1\n    #if (i % 250) == 0:\n     #   print(i)",
      "execution_count": null,
      "outputs": []
    },
    {
      "metadata": {
        "trusted": true,
        "_uuid": "135b3206579fc574622df01050d10dbcfd532bae",
        "scrolled": true
      },
      "cell_type": "code",
      "source": "from keras.applications.resnet50 import ResNet50\nmodel = ResNet50(include_top=False, weights = 'imagenet', input_shape = (100,100,3), pooling = 'avg')",
      "execution_count": null,
      "outputs": []
    },
    {
      "metadata": {
        "trusted": true,
        "_uuid": "f0ad16be9a6324b7ad3c274ff035d3f2f7924f3c"
      },
      "cell_type": "code",
      "source": "for layer in model.layers[:-5]:\n    layer.trainable = False",
      "execution_count": null,
      "outputs": []
    },
    {
      "metadata": {
        "trusted": true,
        "_uuid": "7b321afd0b7e67ef1c8d72bbfeaa75e66b31b27e"
      },
      "cell_type": "code",
      "source": "from keras import Model\nfrom keras.layers import Dense\nfrom keras import optimizers\nx = model.output\nx=Dense(5004,activation='softmax')(x)\nmodel_final=Model(inputs=model.input,outputs=x)",
      "execution_count": null,
      "outputs": []
    },
    {
      "metadata": {
        "trusted": true,
        "_uuid": "27a02142fec853b995258fee74492f184a384f93"
      },
      "cell_type": "code",
      "source": "#model_final.summary()",
      "execution_count": null,
      "outputs": []
    },
    {
      "metadata": {
        "trusted": true,
        "_uuid": "760c34c221bcdf7f80058be1386830e0ca62f8ae"
      },
      "cell_type": "code",
      "source": "from keras import optimizers\nmodel_final.compile(loss='categorical_crossentropy',\n              optimizer=optimizers.Adam(),\n              metrics=['acc'])\n",
      "execution_count": null,
      "outputs": []
    },
    {
      "metadata": {
        "trusted": true,
        "_uuid": "0bfa8658d7a758cf5c3abfa3d689974922f8f29e"
      },
      "cell_type": "code",
      "source": "model_final.summary()",
      "execution_count": null,
      "outputs": []
    },
    {
      "metadata": {
        "trusted": true,
        "_uuid": "f596c31822f91e9ce2f162805c35d0cd84567220"
      },
      "cell_type": "code",
      "source": "from keras.preprocessing.image import ImageDataGenerator\n\ntrain_datagen = ImageDataGenerator(\n      rescale=1./255,\n      rotation_range=20,\n      width_shift_range=0.2,\n      height_shift_range=0.2,\n      horizontal_flip=True,\n      fill_mode='nearest')\n\n\ntrain_generator = train_datagen.flow_from_dataframe(\ndataframe = train,\ndirectory = \"../input/train/\",\nx_col = \"Image\",\ny_col = \"Id\",\ntarget_size = (100,100),\nclass_mode = \"categorical\",\nbatch_size = 32    \n)",
      "execution_count": null,
      "outputs": []
    },
    {
      "metadata": {
        "trusted": true,
        "_uuid": "d4d66783bbde9b4462a439bfd0eec9830162b8cc"
      },
      "cell_type": "code",
      "source": "from keras.callbacks import EarlyStopping\nhistory = model_final.fit_generator(train_generator,\n      steps_per_epoch=train_generator.samples,\n      epochs=1,\n      verbose=1,\n      callbacks=[EarlyStopping(monitor='acc', mode='max')])",
      "execution_count": null,
      "outputs": []
    },
    {
      "metadata": {
        "trusted": true,
        "_uuid": "437c4b68e5a5673e3ca2a56a41f3cf2f69df6e6d"
      },
      "cell_type": "code",
      "source": "model_final.save_weights('model1weights.h5')\nmodel_final.save('model1.h5')",
      "execution_count": null,
      "outputs": []
    },
    {
      "metadata": {
        "trusted": true,
        "_uuid": "de28e7f6842bbde12e5105e07be41c8b3850c7dc"
      },
      "cell_type": "code",
      "source": "",
      "execution_count": null,
      "outputs": []
    },
    {
      "metadata": {
        "trusted": true,
        "_uuid": "c2e9e84bbcbd35a3f8bbb9e79e8f4517fa36968d"
      },
      "cell_type": "code",
      "source": "",
      "execution_count": null,
      "outputs": []
    },
    {
      "metadata": {
        "trusted": true,
        "_uuid": "8e942332e20337982858c9fc7ffed44e011cc037"
      },
      "cell_type": "code",
      "source": "",
      "execution_count": null,
      "outputs": []
    },
    {
      "metadata": {
        "trusted": true,
        "_uuid": "12647fd8a7f5559225893db44728b2f20816f740"
      },
      "cell_type": "code",
      "source": "",
      "execution_count": null,
      "outputs": []
    }
  ],
  "metadata": {
    "kernelspec": {
      "display_name": "Python 3",
      "language": "python",
      "name": "python3"
    },
    "language_info": {
      "name": "python",
      "version": "3.6.6",
      "mimetype": "text/x-python",
      "codemirror_mode": {
        "name": "ipython",
        "version": 3
      },
      "pygments_lexer": "ipython3",
      "nbconvert_exporter": "python",
      "file_extension": ".py"
    }
  },
  "nbformat": 4,
  "nbformat_minor": 1
}
